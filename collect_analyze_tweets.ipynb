{
 "cells": [
  {
   "cell_type": "code",
   "execution_count": null,
   "metadata": {},
   "outputs": [],
   "source": [
    "import pandas as pd\n",
    "#import json\n",
    "from datetime import date\n",
    "import os"
   ]
  },
  {
   "cell_type": "code",
   "execution_count": null,
   "metadata": {},
   "outputs": [],
   "source": [
    "import twitutils\n",
    "init_data = twitutils.init()\n",
    "print(init_data)"
   ]
  },
  {
   "cell_type": "code",
   "execution_count": null,
   "metadata": {
    "scrolled": true
   },
   "outputs": [],
   "source": [
    "# The code require the pysad module\n",
    "# This module has to be installed separately (see the README file)\n",
    "# Once installed, the path where the pysad module is located must be set in the config.json file under 'pysad_path'\n",
    "import sys\n",
    "sys.path.append(init_data['pysad_path'])\n",
    "\n",
    "import pysad\n",
    "#import pysad.utils\n",
    "import pysad.collect\n",
    "import pysad.twitter"
   ]
  },
  {
   "cell_type": "markdown",
   "metadata": {},
   "source": [
    "# Collecting the data from Twitter"
   ]
  },
  {
   "cell_type": "code",
   "execution_count": null,
   "metadata": {},
   "outputs": [],
   "source": [
    "graph_handle = pysad.twitter.twitter_network(init_data['credentials_file'])"
   ]
  },
  {
   "cell_type": "code",
   "execution_count": null,
   "metadata": {
    "scrolled": true
   },
   "outputs": [],
   "source": [
    "import importlib\n",
    "importlib.reload(pysad.collect)\n",
    "importlib.reload(pysad.twitter)\n",
    "importlib.reload(twitutils)"
   ]
  },
  {
   "cell_type": "code",
   "execution_count": null,
   "metadata": {},
   "outputs": [],
   "source": [
    "init_accounts = pysad.twitter.initial_accounts(init_data['accounts_file'])"
   ]
  },
  {
   "cell_type": "code",
   "execution_count": null,
   "metadata": {},
   "outputs": [],
   "source": [
    "init_accounts.list()"
   ]
  },
  {
   "cell_type": "code",
   "execution_count": null,
   "metadata": {},
   "outputs": [],
   "source": [
    "######Choose a category##############    \n",
    "category_name = 'Benjamin'\n",
    "\n",
    "username_list = init_accounts.accounts(category_name)"
   ]
  },
  {
   "cell_type": "code",
   "execution_count": null,
   "metadata": {},
   "outputs": [],
   "source": [
    "import importlib\n",
    "importlib.reload(pysad.collect)"
   ]
  },
  {
   "cell_type": "code",
   "execution_count": null,
   "metadata": {},
   "outputs": [],
   "source": [
    "graph_handle.rules['min_mentions'] = 1 # minimal number of mentions of a user to be followed\n",
    "graph_handle.rules['max_day_old'] = 10 # number max of days in the past\n",
    "exploration_depth = 2 # mention of mention of mention of ... up to exploration depth"
   ]
  },
  {
   "cell_type": "code",
   "execution_count": null,
   "metadata": {
    "scrolled": true
   },
   "outputs": [],
   "source": [
    "total_user_list, total_nodes_df, total_edges_df = pysad.collect.spiky_ball(username_list, \n",
    "                                                                               graph_handle, \n",
    "                                                                               exploration_depth=exploration_depth,\n",
    "                                                                                mode='constant',\n",
    "                                                                               random_subset_size=200,\n",
    "                                                                                spread_type='sharp',\n",
    "                                                                          logger_level='verbose')"
   ]
  },
  {
   "cell_type": "code",
   "execution_count": null,
   "metadata": {},
   "outputs": [],
   "source": [
    "print('Total number of users mentioned:',len(total_user_list))"
   ]
  },
  {
   "cell_type": "code",
   "execution_count": null,
   "metadata": {},
   "outputs": [],
   "source": [
    "# Save the collected data in json files\n",
    "\n",
    "# create the path to save the experiment indexed with the date of today\n",
    "today = date.today()\n",
    "date_string = today.strftime(\"%Y%m%d\")\n",
    "print(\"date string =\", date_string)\n",
    "\n",
    "tweet_data_path_list = [init_data['data_path'], category_name, date_string]\n",
    "results_data_path_list = [init_data['results_path'], category_name, date_string]\n",
    "\n",
    "#tweet_data_path = ''.join(tweet_data_path_list)\n",
    "#results_data_path = ''.join(results_data_path_list)\n",
    "\n",
    "# Initialize folders (create or clean them if they exist)\n",
    "# Set erase=False if you need to keep the previous collection\n",
    "tweet_data_path = twitutils.initialize_folder(tweet_data_path_list, erase=True)\n",
    "results_data_path = twitutils.initialize_folder(results_data_path_list, erase=False)\n",
    "\n",
    "# save data\n",
    "pysad.collect.save_data(total_nodes_df,total_edges_df,tweet_data_path)"
   ]
  },
  {
   "cell_type": "markdown",
   "metadata": {},
   "source": [
    "# Loading the saved data into an edge table"
   ]
  },
  {
   "cell_type": "code",
   "execution_count": null,
   "metadata": {},
   "outputs": [],
   "source": [
    "import pysad.graph\n",
    "import twitclusters\n",
    "import importlib\n",
    "importlib.reload(pysad.twitter)\n",
    "importlib.reload(twitclusters)"
   ]
  },
  {
   "cell_type": "code",
   "execution_count": null,
   "metadata": {},
   "outputs": [],
   "source": [
    "node_df, edge_df = pysad.collect.load_data(tweet_data_path)\n",
    "end_date = max(edge_df['date']).strftime(\"%d/%m/%Y\") \n",
    "start_date = min(edge_df['date']).strftime(\"%d/%m/%Y\")\n",
    "print('Range of tweets date from {} to {}'.format(start_date,end_date))\n",
    "node_df = pysad.twitter.reshape_node_data(node_df)\n",
    "edge_df = pysad.twitter.reshape_edge_data(edge_df,min_weight=2)"
   ]
  },
  {
   "cell_type": "markdown",
   "metadata": {},
   "source": [
    "## Creating the graph"
   ]
  },
  {
   "cell_type": "code",
   "execution_count": null,
   "metadata": {},
   "outputs": [],
   "source": [
    "import importlib\n",
    "importlib.reload(pysad.graph)\n",
    "importlib.reload(pysad.collect)"
   ]
  },
  {
   "cell_type": "code",
   "execution_count": null,
   "metadata": {},
   "outputs": [],
   "source": [
    "MIN_WEIGHT = 2\n",
    "MIN_DEGREE = 2 # Minimal number of connections in the graph\n",
    "\n",
    "G = pysad.graph.graph_from_edgeslist(edge_df, MIN_WEIGHT)\n",
    "#G = pysad.graph.graph_from_edgeslist(df_pop,DEGREE_MIN)\n",
    "G = pysad.graph.add_edges_attributes(G,edge_df)\n",
    "G = pysad.graph.add_node_attributes(G,node_df)\n",
    "G = pysad.graph.reduce_graph(G,MIN_DEGREE)\n",
    "G = pysad.graph.handle_spikyball_neighbors(G,graph_handle)#,remove=False)\n",
    "# Warning, graph properties are not saved by networkx in gexf files except graph name\n",
    "G.graph['end_date'] = end_date \n",
    "G.graph['start_date'] = start_date\n",
    "G.graph['name'] = category_name + ' ' + G.graph['start_date'] + ' - ' + G.graph['end_date'] \n",
    "print('Period from {} to {}.'.format(G.graph['start_date'],G.graph['end_date']))"
   ]
  },
  {
   "cell_type": "markdown",
   "metadata": {},
   "source": [
    "## Community detection to get the clusters"
   ]
  },
  {
   "cell_type": "code",
   "execution_count": null,
   "metadata": {},
   "outputs": [],
   "source": [
    "import importlib\n",
    "importlib.reload(twitclusters)\n",
    "importlib.reload(pysad.graph)"
   ]
  },
  {
   "cell_type": "code",
   "execution_count": null,
   "metadata": {},
   "outputs": [],
   "source": [
    "G,clusters = pysad.graph.detect_communities(G)\n",
    "G.nb_communities = len(clusters)\n",
    "#c_connectivity = pysad.clusters.cluster_connectivity(G)"
   ]
  },
  {
   "cell_type": "code",
   "execution_count": null,
   "metadata": {},
   "outputs": [],
   "source": [
    "G = pysad.graph.remove_small_communities(G,clusters,min_size=2)"
   ]
  },
  {
   "cell_type": "code",
   "execution_count": null,
   "metadata": {},
   "outputs": [],
   "source": [
    "G.number_of_nodes()"
   ]
  },
  {
   "cell_type": "code",
   "execution_count": null,
   "metadata": {},
   "outputs": [],
   "source": [
    "# Save the graph\n",
    "import networkx as nx\n",
    "import json\n",
    "# Save as gexf file\n",
    "min_mentions = graph_handle.rules['min_mentions']\n",
    "graphname = '' + category_name\n",
    "graphfilename = os.path.join(results_data_path, graphname + '_t' + str(min_mentions) + '_md' + str(MIN_DEGREE) +'_graph.gexf')\n",
    "jsongraphfilename = os.path.join(results_data_path, graphname + '_t' + str(min_mentions) + '_md' + str(MIN_DEGREE) +'_graph.json')\n",
    "nx.write_gexf(G,graphfilename)\n",
    "print('Wrote',graphfilename)\n",
    "\n",
    "# Save as json file\n",
    "Gnld = nx.readwrite.json_graph.node_link_data(G)\n",
    "with open(jsongraphfilename, 'w') as outfile:\n",
    "    json.dump(Gnld, outfile)\n",
    "print('Wrote',jsongraphfilename)"
   ]
  },
  {
   "cell_type": "code",
   "execution_count": null,
   "metadata": {},
   "outputs": [],
   "source": [
    "#c_connectivity"
   ]
  },
  {
   "cell_type": "markdown",
   "metadata": {},
   "source": [
    "## Analyze clusters"
   ]
  },
  {
   "cell_type": "code",
   "execution_count": null,
   "metadata": {},
   "outputs": [],
   "source": [
    "import importlib\n",
    "importlib.reload(twitclusters)\n",
    "importlib.reload(twitutils)"
   ]
  },
  {
   "cell_type": "markdown",
   "metadata": {},
   "source": [
    "## Automatic processing of all clusters"
   ]
  },
  {
   "cell_type": "code",
   "execution_count": null,
   "metadata": {
    "scrolled": true
   },
   "outputs": [],
   "source": [
    "# Extracting the data from the clusters\n",
    "cluster_info_dic = {}\n",
    "for c_id in clusters:\n",
    "    cgraph = clusters[c_id]\n",
    "    if cgraph.number_of_nodes()==0: #in case a cluster has been removed\n",
    "        cluster_info_dic[c_id] = {}\n",
    "        continue\n",
    "    cgraph = twitclusters.cluster_attributes(cgraph)\n",
    "    table_dic = twitclusters.cluster_tables(cgraph)\n",
    "    #node_details = \n",
    "    cluster_filename = os.path.join(results_data_path, 'cluster' + str(c_id))\n",
    "    cluster_info_dic[c_id] = {}\n",
    "    cluster_info_dic[c_id]['info_table'] = table_dic\n",
    "    #cluster_info_dic[c_id]['user_details'] = node_details\n",
    "    cluster_info_dic[c_id]['filename'] = cluster_filename    "
   ]
  },
  {
   "cell_type": "code",
   "execution_count": null,
   "metadata": {
    "scrolled": true
   },
   "outputs": [],
   "source": [
    "# Adding global infos\n",
    "# keywords\n",
    "corpus = twitclusters.get_corpus(cluster_info_dic)\n",
    "keyword_dic = twitclusters.tfidf(corpus)\n",
    "# save in the cluster info dic\n",
    "for c_id in clusters:\n",
    "    if clusters[c_id].number_of_nodes()>0:\n",
    "        cluster_info_dic[c_id]['info_table']['keywords'] = keyword_dic[c_id]"
   ]
  },
  {
   "cell_type": "code",
   "execution_count": null,
   "metadata": {},
   "outputs": [],
   "source": [
    "# gathering global info\n",
    "# Saving in excel files\n",
    "for c_id in cluster_info_dic:\n",
    "    if not cluster_info_dic[c_id]:\n",
    "        continue\n",
    "    info_table = cluster_info_dic[c_id]['info_table']\n",
    "    cluster_general_info = {'cluster id': c_id, 'Nb users': clusters[c_id].number_of_nodes(), \n",
    "                           'Nb of tweets':clusters[c_id].size(weight='weight'),\n",
    "                           'Start date': str(G.graph['start_date']),\n",
    "                           'End date': str(G.graph['end_date']),\n",
    "                           'Search topic': category_name}\n",
    "                           #'cluster connectivity': c_connectivity[c_id]}\n",
    "    cluster_general_df = pd.DataFrame.from_dict([cluster_general_info])\n",
    "    #info_table = {'cluster':cluster_general_df, **info_table}\n",
    "    sheet1 = pd.concat([cluster_general_df,info_table['hashtags'],info_table['keywords']],axis=1)\n",
    "    tweet_table = info_table['text']\n",
    "    #user_table = \n",
    "    cluster_indicators = pd.DataFrame([twitclusters.compute_cluster_indicators(clusters[c_id])])\n",
    "    excel_data = {'cluster':sheet1, 'tweets':tweet_table, 'indicators': cluster_indicators, 'users': node_df}\n",
    "    #excel_data = info_table\n",
    "    twitclusters.save_excel(excel_data,cluster_info_dic[c_id]['filename'] + '_infos.xlsx', table_format='Fanny')\n",
    "    pysad.graph.save_graph(clusters[c_id],cluster_info_dic[c_id]['filename'] + 'graph.gexf')"
   ]
  },
  {
   "cell_type": "markdown",
   "metadata": {},
   "source": [
    "## Saving clusters info to be displayed with the graph"
   ]
  },
  {
   "cell_type": "code",
   "execution_count": null,
   "metadata": {},
   "outputs": [],
   "source": [
    "# Writing clusters info to the graph\n",
    "G = twitclusters.clutersprop2graph(G,cluster_info_dic,clusters)"
   ]
  },
  {
   "cell_type": "code",
   "execution_count": null,
   "metadata": {},
   "outputs": [],
   "source": [
    "# Save the graph as a json file\n",
    "import networkx as nx\n",
    "\n",
    "graphname = 'graph'\n",
    "jsongraphfilename = results_data_path + graphname + '_t' + str(min_mentions) + '_md' + str(MIN_DEGREE) +'_graph.json'\n",
    "\n",
    "Gnld = nx.readwrite.json_graph.node_link_data(G)\n",
    "with open(jsongraphfilename, 'w') as outfile:\n",
    "    json.dump(Gnld, outfile)\n",
    "print('Wrote',jsongraphfilename)"
   ]
  },
  {
   "cell_type": "code",
   "execution_count": null,
   "metadata": {},
   "outputs": [],
   "source": [
    "# save clusters info as a json file\n",
    "clusterinfotoviz = G.graph['clusters']\n",
    "jsonfilename = results_data_path + graphname + '_t' + str(min_mentions) + '_md' + str(MIN_DEGREE) +'_clusters.json'\n",
    "\n",
    "with open(jsonfilename, 'w') as outfile:\n",
    "    json.dump(clusterinfotoviz, outfile)\n",
    "print('Wrote',jsonfilename)"
   ]
  },
  {
   "cell_type": "code",
   "execution_count": null,
   "metadata": {},
   "outputs": [],
   "source": []
  }
 ],
 "metadata": {
  "kernelspec": {
   "display_name": "Python 3",
   "language": "python",
   "name": "python3"
  },
  "language_info": {
   "codemirror_mode": {
    "name": "ipython",
    "version": 3
   },
   "file_extension": ".py",
   "mimetype": "text/x-python",
   "name": "python",
   "nbconvert_exporter": "python",
   "pygments_lexer": "ipython3",
   "version": "3.6.9"
  }
 },
 "nbformat": 4,
 "nbformat_minor": 2
}
